{
  "cells": [
    {
      "cell_type": "markdown",
      "metadata": {
        "id": "hVbXYX-RfPWh"
      },
      "source": [
        "# Algoritmos de optimización - Seminario<br>\n",
        "Nombre y Apellidos:   <br>\n",
        "Url: https://github.com/.../03MAIR---Algoritmos-de-Optimizacion---2019/tree/master/SEMINARIO<br>\n",
        "Problema:\n",
        "> 1. Sesiones de doblaje <br>\n",
        ">2. Organizar los horarios de partidos de La Liga<br>\n",
        ">3. Combinar cifras y operaciones\n",
        "\n",
        "Descripción del problema:(copiar enunciado)\n",
        "\n",
        "**Combinar cifras y operaciones** <br>\n",
        "- El problema consiste en analizar el siguiente problema y diseñar un algoritmo que lo resuelva.\n",
        "- Disponemos de las 9 cifras del 1 al 9 (excluimos el cero) y de los 4 signos básicos de las\n",
        "operaciones fundamentales: suma(+), resta(-), multiplicación(*) y división(/)\n",
        "- Debemos combinarlos alternativamente sin repetir ninguno de ellos para obtener una\n",
        "cantidad dada. Un ejemplo sería para obtener el 4:\n",
        "\n",
        "```\n",
        "  4+2-6/3*1 = 4\n",
        "```\n",
        "\n",
        "(*) La respuesta es obligatoria\n",
        "\n",
        "\n",
        "\n",
        "\n",
        "\n",
        "                                        "
      ]
    },
    {
      "cell_type": "code",
      "execution_count": 21,
      "metadata": {
        "id": "AiskKkzZfy4e",
        "outputId": "3be5ae6a-a239-4c30-8faf-9089c1fc664d",
        "colab": {
          "base_uri": "https://localhost:8080/"
        }
      },
      "outputs": [
        {
          "output_type": "stream",
          "name": "stdout",
          "text": [
            "Para el número 1\n",
            "La solución es: 1+2-3*4/6\n",
            "Evaluando el resultado:\n",
            "    1+2-3*4/6 = 1.0\n"
          ]
        }
      ],
      "source": [
        "from itertools import permutations\n",
        "\n",
        "def evaluate_expression(numbers, operators):\n",
        "    \"\"\"\n",
        "    Construye una expresión matemática con los números y operadores dados y evalúa el resultado usando eval.\n",
        "    \"\"\"\n",
        "    expression = \"\".join(str(numbers[i]) + operators[i] for i in range(len(operators))) + str(numbers[-1])\n",
        "    try:\n",
        "        result = eval(expression)\n",
        "    except ZeroDivisionError:\n",
        "        return None, None  # Evita divisiones por cero\n",
        "    return result, expression\n",
        "\n",
        "def find_expression(target):\n",
        "    digits = list(range(1, 10))\n",
        "    operators = ['+', '-', '*', '/']\n",
        "\n",
        "    for num_perm in permutations(digits, 5):  # Elegimos solo 5 números sin repetir\n",
        "        for op_perm in permutations(operators, 4):  # Elegimos 4 operadores sin repetir\n",
        "            result, expression = evaluate_expression(num_perm, op_perm)\n",
        "            if result is not None and result == target:\n",
        "                return expression\n",
        "\n",
        "    return \"No solution found\"\n",
        "\n",
        "# Ejemplo de uso\n",
        "target_number = 1\n",
        "solution = find_expression(target_number)\n",
        "if solution == \"No solution found\":\n",
        "    print(f\"No se encontró una expresión para {target_number}\")\n",
        "else:\n",
        "  print(f\"Para el número {target_number}\")\n",
        "  print(\"La solución es:\", solution)\n",
        "  print(\"Evaluando el resultado:\")\n",
        "  print(f\"    {solution} = {eval(solution)}\")"
      ]
    },
    {
      "cell_type": "markdown",
      "source": [
        "### Debe analizarse el problema para encontrar todos los valores enteros posibles planteando las siguientes cuestiones:\n",
        "- ¿Qué valor máximo y mínimo se pueden obtener según las condiciones del problema?\n",
        "- ¿Es posible encontrar todos los valores enteros posibles entre dicho mínimo y máximo ?"
      ],
      "metadata": {
        "id": "N5oJzes0yorx"
      }
    },
    {
      "cell_type": "code",
      "source": [
        "def find_valid_solutions():\n",
        "    \"\"\"\n",
        "    Encuentra todas las soluciones posibles dentro del dominio de valores enteros.\n",
        "    \"\"\"\n",
        "    digits = list(range(1, 10))\n",
        "    operators = ['+', '-', '*', '/']\n",
        "    results = {}\n",
        "\n",
        "    for num_perm in permutations(digits, 5):  # Elegimos solo 5 números sin repetir\n",
        "        for op_perm in permutations(operators, 4):  # Elegimos 4 operadores sin repetir\n",
        "            result, expression = evaluate_expression(num_perm, op_perm)\n",
        "            if result is not None and result == int(result):  # Solo enteros\n",
        "                results[int(result)] = expression\n",
        "\n",
        "    return results\n",
        "\n",
        "# Obtener el dominio de soluciones válidas\n",
        "valid_solutions = find_valid_solutions()\n",
        "min_value = min(valid_solutions.keys())\n",
        "max_value = max(valid_solutions.keys())\n",
        "all_integers_present = set(range(min_value, max_value + 1)).issubset(valid_solutions.keys())\n",
        "\n",
        "print(f\"Minimum value: {min_value}\")\n",
        "print(f\"Maximum value: {max_value}\")\n",
        "print(f\"All integers in range present: {all_integers_present}\")\n",
        "\n",
        "from sympy import symbols, Add, Mul, Rational\n",
        "from sympy.plotting import plot\n",
        "# Definir la función objetivo en términos simbólicos\n",
        "x = symbols('x')\n",
        "f = Add(x**2, Mul(2, x))  # Ejemplo simbólico representativo\n",
        "\n",
        "# Graficar en 2D\n",
        "plot(f, (x, min_value, max_value))\n",
        "\n"
      ],
      "metadata": {
        "id": "jcZljfWjpB57",
        "outputId": "312c0aff-771b-4f67-95bb-207e12ab8f99",
        "colab": {
          "base_uri": "https://localhost:8080/",
          "height": 553
        }
      },
      "execution_count": 25,
      "outputs": [
        {
          "output_type": "stream",
          "name": "stdout",
          "text": [
            "Minimum value: -69\n",
            "Maximum value: 77\n",
            "All integers in range present: True\n"
          ]
        },
        {
          "output_type": "display_data",
          "data": {
            "text/plain": [
              "<Figure size 640x480 with 1 Axes>"
            ],
            "image/png": "[encoded data removed]"
          },
          "metadata": {}
        },
        {
          "output_type": "execute_result",
          "data": {
            "text/plain": [
              "<sympy.plotting.backends.matplotlibbackend.matplotlib.MatplotlibBackend at 0x7bbb97b9d050>"
            ]
          },
          "metadata": {},
          "execution_count": 25
        }
      ]
    },
    {
      "cell_type": "markdown",
      "metadata": {
        "id": "3_-exlrTgLd-"
      },
      "source": [
        "### (*)¿Cuantas posibilidades hay sin tener en cuenta las restricciones?<br>\n",
        "\n",
        "- Se seleccionan **9 números sin repetir** del conjunto \\( \\{1,2,3,4,5,6,7,8,9\\} \\).\n",
        "- Se seleccionan **4 operadores sin repetir** de \\( \\{+, -, *, /\\} \\).\n",
        "\n",
        "Las cantidades de permutaciones posibles son:\n",
        "\n",
        "- **Permutaciones de 9 números elegidos:**  \n",
        "  $\n",
        "  P(9) = 9! = 362880\n",
        "  $\n",
        "- **Permutaciones de 4 operadores elegidos de 4:**  \n",
        "  $\n",
        "  P(4,4) = 4! = 24\n",
        "  $\n",
        "- **Cantidad total de posibilidades:**\n",
        "  362880 * 24 = 8709120\n",
        "\n",
        "### ¿Cuantas posibilidades hay teniendo en cuenta todas las restricciones.\n",
        "\n",
        "- Se seleccionan **5 números sin repetir** del conjunto \\( \\{1,2,3,4,5,6,7,8,9\\} \\).\n",
        "- Se seleccionan **4 operadores sin repetir** de \\( \\{+, -, *, /\\} \\).\n",
        "\n",
        "Las cantidades de permutaciones posibles son:\n",
        "\n",
        "- **Permutaciones de 5 números elegidos de 9:**  \n",
        "  $\n",
        "  P(9,5) = \\frac{9!}{(9-5)!} = \\frac{9!}{4!} = \\frac{362880}{24} = 15120\n",
        "  $\n",
        "- **Permutaciones de 4 operadores elegidos de 4:**  \n",
        "  $\n",
        "  P(4,4) = 4! = 24\n",
        "  $\n",
        "- **Cantidad total de posibilidades:**\n",
        "  15120 * 24 = 362880"
      ]
    },
    {
      "cell_type": "markdown",
      "metadata": {
        "id": "WfCUqJyKhPcw"
      },
      "source": [
        "Respuesta"
      ]
    },
    {
      "cell_type": "markdown",
      "metadata": {
        "id": "iq6Fe32MgpDX"
      },
      "source": []
    },
    {
      "cell_type": "markdown",
      "metadata": {
        "id": "dzynfVJahHoY"
      },
      "source": [
        "Modelo para el espacio de soluciones<br>\n",
        "# (*) ¿Cual es la estructura de datos que mejor se adapta al problema? Argumentalo.(Es posible que hayas elegido una al principio y veas la necesidad de cambiar, arguentalo)\n",
        "\n",
        "## Estructura de Datos Adecuada\n",
        "La mejor estructura de datos para almacenar las soluciones en este problema es un diccionario (dict) en Python. La razón principal es que:\n",
        "\n",
        "1. Cada expresión matemática genera un valor único (clave-valor)\n",
        "\n",
        "- La clave del diccionario será el resultado numérico obtenido.\n",
        "- El valor almacenado será la expresión matemática que lo generó.\n",
        "\n",
        "2. Evita duplicados y permite acceso rápido\n",
        "\n",
        "- Si usamos un set, solo almacenaríamos los valores únicos obtenidos sin rastrear cómo se generaron.\n",
        "- Usar una lista sería ineficiente, ya que la búsqueda de valores sería $O(n)$ en el peor caso.\n",
        "- Un diccionario nos permite acceso en $O(1)$ a cualquier resultado específico, facilitando la verificación de la continuidad del dominio de soluciones."
      ]
    },
    {
      "cell_type": "markdown",
      "metadata": {
        "id": "xFIJrOwKi2Ti"
      },
      "source": [
        "Respuesta"
      ]
    },
    {
      "cell_type": "code",
      "execution_count": null,
      "metadata": {
        "id": "38c-7-ejhJmA"
      },
      "outputs": [],
      "source": []
    },
    {
      "cell_type": "markdown",
      "metadata": {
        "id": "7Z9U2W7bi-XS"
      },
      "source": [
        "Según el modelo para el espacio de soluciones<br>\n",
        "# (*)¿Cual es la función objetivo?\n",
        "\n",
        "## Función Objetivo\n",
        "\n",
        "La función objetivo se define como una expresión matemática construida a partir de los números del 1 al 9 (sin repetir) y los operadores básicos de suma, resta, multiplicación y división (también sin repetir). Se busca obtener una cantidad dada combinando estos elementos de manera alternada.\n",
        "\n",
        "### **Expresión General**\n",
        "Dado un conjunto de cinco números distintos $( a, b, c, d, e )$ y cuatro operadores distintos $( op_1, op_2, op_3, op_4 )$, la función objetivo se expresa como:\n",
        "\n",
        "\\begin{align}\n",
        "f(a, b, c, d, e) = a \\, op_1 \\, b \\, op_2 \\, c \\, op_3 \\, d \\, op_4 \\, e\n",
        "\\end{align}\n",
        "\n",
        "\n",
        "donde:\n",
        "\n",
        "- $( a, b, c, d, e )$ son elementos del conjunto $\\{ 1, 2, 3, 4, 5, 6, 7, 8, 9 \\}$ sin repetir.\n",
        "- $( op_1, op_2, op_3, op_4 )$ son operadores elegidos de $\\{ +, -, *, / \\}$ sin repetir.\n",
        "- La evaluación de la expresión sigue la jerarquía estándar de operaciones matemáticas.\n",
        "\n",
        "### **Ejemplo de Evaluación**\n",
        "Para obtener un resultado objetivo, como $ f(a, b, c, d, e) = 4 $, una posible combinación sería:\n",
        "\n",
        "\\begin{align}\n",
        "        4 + 2 - 6 \\div 3 \\times 1 = 4\n",
        "\\end{align}\n",
        "\n",
        "\n",
        "Este problema genera un conjunto de valores posibles, cuyo dominio y rango dependen de las combinaciones generadas bajo estas restricciones.\n",
        "\n",
        "\n",
        "# (*)¿Es un problema de maximización o minimización?\n",
        "\n",
        "El problema propuesto puede interpretarse como un problema de optimización, ya que buscamos encontrar el rango de valores enteros posibles que se pueden obtener mediante la combinación de los números del 1 al 9 con las operaciones básicas.\n",
        "\n",
        "Sin embargo, no se trata de una típica maximización o minimización en términos de optimización clásica, sino de exploración de dominio. Aun así, podemos analizarlo desde esta perspectiva:\n",
        "\n",
        "- Si el objetivo fuera encontrar el mayor valor posible que se puede obtener con las restricciones dadas, entonces sería un problema de maximización.\n",
        "- Si el objetivo fuera encontrar el menor valor posible, entonces sería un problema de minimización.\n",
        "\n",
        "Dado que el problema nos pide encontrar todos los valores posibles dentro de un dominio, podemos decir que involucra tanto la maximización como la minimización, ya que al final obtenemos el valor máximo y el valor mínimo posible de las combinaciones válidas.\n",
        "\n",
        "### Conclusión\n",
        "El problema no es estrictamente de maximización o minimización en el sentido clásico, pero se puede abordar como un problema de exploración de límites, donde encontramos tanto el mínimo como el máximo valor alcanzable dentro de las restricciones impuestas"
      ]
    },
    {
      "cell_type": "markdown",
      "metadata": {
        "id": "hBalWLM7j1_d"
      },
      "source": [
        "Respuesta"
      ]
    },
    {
      "cell_type": "code",
      "execution_count": null,
      "metadata": {
        "id": "pDA-rg3Gj5Lz"
      },
      "outputs": [],
      "source": []
    },
    {
      "cell_type": "markdown",
      "metadata": {
        "id": "rlnTYgY1j6I2"
      },
      "source": [
        "Diseña un algoritmo para resolver el problema por fuerza bruta"
      ]
    },
    {
      "cell_type": "markdown",
      "metadata": {
        "id": "70rDgxYXkC8r"
      },
      "source": [
        "Respuesta"
      ]
    },
    {
      "cell_type": "code",
      "execution_count": 26,
      "metadata": {
        "id": "CJb5sQ0qkENy",
        "outputId": "4ac07e47-2be8-4524-d068-3d2c93619709",
        "colab": {
          "base_uri": "https://localhost:8080/"
        }
      },
      "outputs": [
        {
          "output_type": "stream",
          "name": "stdout",
          "text": [
            "Para el número 4\n",
            "La solución es: 1-2*3/6+4\n",
            "Evaluando el resultado:\n",
            "    1-2*3/6+4 = 4.0\n"
          ]
        }
      ],
      "source": [
        "def brute_force_solution(target):\n",
        "    \"\"\"\n",
        "    Algoritmo de fuerza bruta para encontrar una expresión que evalúe al número objetivo.\n",
        "    \"\"\"\n",
        "    digits = list(range(1, 10))\n",
        "    operators = ['+', '-', '*', '/']\n",
        "\n",
        "    for num_perm in permutations(digits, 5):  # Tomamos 5 números sin repetir\n",
        "        for op_perm in permutations(operators, 4):  # Tomamos 4 operadores sin repetir\n",
        "            result, expression = evaluate_expression(num_perm, op_perm)\n",
        "            if result is not None and result == target:\n",
        "                return expression\n",
        "\n",
        "    return \"No solution found\"\n",
        "\n",
        "\n",
        "# Ejemplo de búsqueda de una solución por fuerza bruta\n",
        "target_number = 4\n",
        "solution = brute_force_solution(target_number)\n",
        "if solution == \"No solution found\":\n",
        "    print(f\"No se encontró una expresión para {target_number}\")\n",
        "else:\n",
        "    print(f\"Para el número {target_number}\")\n",
        "    print(\"La solución es:\", solution)\n",
        "    print(\"Evaluando el resultado:\")\n",
        "    print(f\"    {solution} = {eval(solution)}\")"
      ]
    },
    {
      "cell_type": "markdown",
      "metadata": {
        "id": "tgrnsC2nkFa8"
      },
      "source": [
        "Calcula la complejidad del algoritmo por fuerza bruta"
      ]
    },
    {
      "cell_type": "markdown",
      "metadata": {
        "id": "9eUd3xwckP68"
      },
      "source": [
        "Respuesta\n",
        "\n",
        "# **Cálculo de la Complejidad del Algoritmo de Fuerza Bruta**\n",
        "\n",
        "El algoritmo se basa en generar todas las combinaciones posibles de números y operadores sin repetir, evaluar cada una y comprobar si el resultado coincide con el valor objetivo.\n",
        "\n",
        "## **1. Generación de Permutaciones**\n",
        "- Se seleccionan **5 números sin repetir** del conjunto \\( \\{1,2,3,4,5,6,7,8,9\\} \\).\n",
        "- Se seleccionan **4 operadores sin repetir** de \\( \\{+, -, *, /\\} \\).\n",
        "\n",
        "Las cantidades de permutaciones posibles son:\n",
        "\n",
        "- **Permutaciones de 5 números elegidos de 9:**  \n",
        "  $\n",
        "  P(9,5) = \\frac{9!}{(9-5)!} = \\frac{9!}{4!} = \\frac{362880}{24} = 15120\n",
        "  $\n",
        "- **Permutaciones de 4 operadores elegidos de 4:**  \n",
        "  $\n",
        "  P(4,4) = 4! = 24\n",
        "  $\n",
        "\n",
        "## **2. Evaluación de Expresiones**\n",
        "Cada combinación de números y operadores genera **una única expresión** que se evalúa usando `eval()`. En el peor caso, el algoritmo revisa **todas** las combinaciones posibles.\n",
        "\n",
        "## **3. Complejidad Total**\n",
        "Multiplicamos las combinaciones de números por las de operadores:\n",
        "\n",
        "$\n",
        "O(P(9,5) \\times P(4,4)) = O(15120 \\times 24) = O(362880)\n",
        "$\n",
        "\n",
        "Es decir, el **peor caso** del algoritmo tiene una **complejidad factorial** aproximada a:\n",
        "\n",
        "$\n",
        "O(9!)\n",
        "$\n",
        "\n",
        "Dado que **\\( 9! = 362880 \\)**, el algoritmo tiene una **complejidad exponencial alta** debido a la exploración exhaustiva del espacio de soluciones.\n",
        "\n",
        "---\n",
        "\n",
        "## **Conclusión**\n",
        "- **La complejidad es $ O(9!) $ (factorial), lo que lo hace computacionalmente costoso.**\n",
        "- **Este tipo de problema es ineficiente para grandes conjuntos de datos**, aunque factible para este caso (dado que \\( 9! \\) sigue siendo manejable en computadoras modernas).\n",
        "- **Se podría optimizar el algoritmo** utilizando **poda de búsqueda** (por ejemplo, descartando combinaciones inválidas tempranamente o utilizando técnicas de backtracking).\n",
        "\n"
      ]
    },
    {
      "cell_type": "code",
      "execution_count": null,
      "metadata": {
        "id": "rvZWwL-ckRST"
      },
      "outputs": [],
      "source": []
    },
    {
      "cell_type": "markdown",
      "metadata": {
        "id": "txbrmLmskReM"
      },
      "source": [
        "(*)Diseña un algoritmo que mejore la complejidad del algortimo por fuerza bruta. Argumenta porque crees que mejora el algoritmo por fuerza bruta"
      ]
    },
    {
      "cell_type": "markdown",
      "metadata": {
        "id": "hLrVwt5QkZPD"
      },
      "source": [
        "Respuesta"
      ]
    },
    {
      "cell_type": "code",
      "execution_count": 48,
      "metadata": {
        "id": "m1eyM21Vkabg",
        "outputId": "1268c0fe-41c2-4bf4-c844-e4b1c6414225",
        "colab": {
          "base_uri": "https://localhost:8080/"
        }
      },
      "outputs": [
        {
          "output_type": "stream",
          "name": "stdout",
          "text": [
            "Para el número 79\n",
            "La solución optimizada es: ((((3/1)+6)*9)-2)\n",
            "Evaluando el resultado:\n",
            "    ((((3/1)+6)*9)-2) = 79.0\n"
          ]
        }
      ],
      "source": [
        "from itertools import permutations\n",
        "from sympy import symbols, Add, Mul, Rational\n",
        "\n",
        "def evaluate_expression(numbers, operators):\n",
        "    \"\"\"\n",
        "    Construye una expresión matemática con los números y operadores dados y evalúa el resultado usando eval.\n",
        "    \"\"\"\n",
        "    expression = \"\".join(f\"{numbers[i]}{operators[i]}\" for i in range(len(operators))) + str(numbers[-1])\n",
        "    try:\n",
        "        result = eval(expression)\n",
        "    except ZeroDivisionError:\n",
        "        return None, None  # Evita divisiones por cero\n",
        "    return result, expression\n",
        "\n",
        "def backtracking_solution(target, numbers, operators, index=0, current_value=None, current_expression=\"\", used_ops=set()):\n",
        "    \"\"\"\n",
        "    Algoritmo optimizado usando backtracking con poda, asegurando el uso de 5 números y 4 operadores sin repetir.\n",
        "    \"\"\"\n",
        "    if index == 5:  # Se deben usar los 5 números y 4 operadores\n",
        "        if current_value == target:\n",
        "            return current_expression\n",
        "        return None\n",
        "\n",
        "    if current_value is None:\n",
        "        return backtracking_solution(target, numbers, operators, index + 1, numbers[0], str(numbers[0]), used_ops)\n",
        "\n",
        "    if index < 5:\n",
        "        for op in operators:\n",
        "            if op in used_ops:\n",
        "                continue  # Evita repetir operadores\n",
        "\n",
        "            if op == '/' and numbers[index] == 0:\n",
        "                continue  # Evita la división por cero\n",
        "\n",
        "            new_value = eval(f\"{current_value}{op}{numbers[index]}\")\n",
        "            new_expression = f\"({current_expression}{op}{numbers[index]})\"\n",
        "\n",
        "            if abs(new_value) > abs(target) * 2:  # Poda: evita valores extremos\n",
        "                continue\n",
        "\n",
        "            result = backtracking_solution(target, numbers, operators, index + 1, new_value, new_expression, used_ops | {op})\n",
        "            if result:\n",
        "                return result\n",
        "\n",
        "    return None\n",
        "\n",
        "def find_optimized_expression(target):\n",
        "    \"\"\"\n",
        "    Encuentra una expresión válida usando el algoritmo optimizado con backtracking y poda.\n",
        "    \"\"\"\n",
        "    digits = list(range(1, 10))\n",
        "    operators = ['+', '-', '*', '/']\n",
        "\n",
        "    for num_perm in permutations(digits, 5):  # Genera combinaciones de 5 números sin repetir\n",
        "        for op_perm in permutations(operators, 4):  # Genera combinaciones de 4 operadores sin repetir\n",
        "            result = backtracking_solution(target, num_perm, op_perm)\n",
        "            if result:\n",
        "                return result\n",
        "\n",
        "    return \"No solution found\"\n",
        "\n",
        "# Ejemplo de búsqueda de una solución optimizada\n",
        "target_number = 79\n",
        "solution = find_optimized_expression(target_number)\n",
        "if solution == \"No solution found\":\n",
        "    print(f\"No se encontró una expresión para {target_number}\")\n",
        "else:\n",
        "    print(f\"Para el número {target_number}\")\n",
        "    print(\"La solución optimizada es:\", solution)\n",
        "    print(\"Evaluando el resultado:\")\n",
        "    print(f\"    {solution} = {eval(solution)}\")\n",
        "\n",
        "# Definir la función objetivo en términos simbólicos\n",
        "x = symbols('x')\n",
        "f = Add(x**2, Mul(2, x))  # Ejemplo simbólico representativo"
      ]
    },
    {
      "cell_type": "markdown",
      "metadata": {
        "id": "eGDB4K6uk1iN"
      },
      "source": [
        "(*)Calcula la complejidad del algoritmo"
      ]
    },
    {
      "cell_type": "markdown",
      "metadata": {
        "id": "NhpTh_BPk1ms"
      },
      "source": [
        "Respuesta\n",
        "\n",
        "# **Cálculo de la Complejidad del Algoritmo**\n",
        "\n",
        "El algoritmo optimizado utiliza **backtracking con poda**, lo que mejora significativamente la complejidad en comparación con la fuerza bruta. Analicemos cada parte:\n",
        "\n",
        "## **1️⃣ Generación de Permutaciones**\n",
        "- Se generan todas las combinaciones de **5 números sin repetir** del conjunto $ \\{1,2,3,4,5,6,7,8,9\\} $:\n",
        "\n",
        "  $\n",
        "  P(9,5) = \\frac{9!}{(9-5)!} = \\frac{9!}{4!} = \\frac{362880}{24} = 15120\n",
        "  $\n",
        "\n",
        "- Se generan todas las combinaciones de **4 operadores sin repetir** del conjunto $ \\{+, -, *, /\\} $:\n",
        "\n",
        "  $\n",
        "  P(4,4) = 4! = 24\n",
        "  $\n",
        "\n",
        "Entonces, el número total de combinaciones iniciales es:\n",
        "\n",
        "$\n",
        "O(15120 \\times 24) = O(362880)\n",
        "$\n",
        "\n",
        "Sin embargo, **no evaluamos todas** debido al **backtracking con poda**.\n",
        "\n",
        "\n",
        "## **2️⃣ Backtracking con Poda**\n",
        "En cada combinación de números y operadores:\n",
        "- Se construye una expresión usando **5 números y 4 operadores**.\n",
        "- Se evalúa progresivamente la expresión para **descartar caminos no prometedores**.\n",
        "- Se usa **poda** para evitar valores excesivos y combinaciones irrelevantes.\n",
        "\n",
        "Dado que el backtracking explora solo caminos válidos y corta ramas innecesarias, la complejidad **se reduce significativamente**.\n",
        "\n",
        "En lugar de evaluar todas las $O(9!)$ combinaciones, la poda limita el crecimiento exponencial. Podemos aproximar la nueva complejidad como:\n",
        "\n",
        "$\n",
        "O(k^n)\n",
        "$\n",
        "\n",
        "donde $k$ es la cantidad promedio de decisiones viables en cada paso y $n = 5$.\n",
        "\n",
        "En la práctica, esta reducción hace que el algoritmo sea **mucho más rápido que la fuerza bruta**, aunque sigue siendo **exponencial en el peor caso**.\n",
        "\n",
        "\n",
        "## **Conclusión**\n",
        "- **El uso de backtracking y poda reduce la cantidad de combinaciones exploradas, lo que mejora la eficiencia.**\n",
        "- **La nueva complejidad es exponencial, pero significativamente menor que $O(9!)$.**\n",
        "- **El algoritmo evita cálculos innecesarios y encuentra soluciones de manera más eficiente.**"
      ]
    },
    {
      "cell_type": "code",
      "execution_count": null,
      "metadata": {
        "id": "nREzhkStlCq8"
      },
      "outputs": [],
      "source": []
    },
    {
      "cell_type": "markdown",
      "metadata": {
        "id": "3M6QjTsSkmYe"
      },
      "source": [
        "Según el problema (y tenga sentido), diseña un juego de datos de entrada aleatorios"
      ]
    },
    {
      "cell_type": "markdown",
      "metadata": {
        "id": "Jc3_OlyNkvjZ"
      },
      "source": [
        "Respuesta"
      ]
    },
    {
      "cell_type": "code",
      "execution_count": 49,
      "metadata": {
        "id": "sJ-N2etjkyWc",
        "outputId": "77a9a431-11de-4ff4-b786-67a5b221c905",
        "colab": {
          "base_uri": "https://localhost:8080/"
        }
      },
      "outputs": [
        {
          "output_type": "stream",
          "name": "stdout",
          "text": [
            "Datos de prueba generados: [42, -4, -10, 33, -46]\n"
          ]
        }
      ],
      "source": [
        "import random\n",
        "\n",
        "def generate_random_targets(n):\n",
        "    \"\"\"\n",
        "    Genera un conjunto de números aleatorios como objetivo.\n",
        "    \"\"\"\n",
        "    return [random.randint(-50, 50) for _ in range(n)]\n",
        "\n",
        "# Generar datos de prueba aleatorios\n",
        "test_targets = generate_random_targets(5)\n",
        "print(\"Datos de prueba generados:\", test_targets)"
      ]
    },
    {
      "cell_type": "markdown",
      "metadata": {
        "id": "zy5ZROmjlGo1"
      },
      "source": [
        "Aplica el algoritmo al juego de datos generado"
      ]
    },
    {
      "cell_type": "markdown",
      "metadata": {
        "id": "_Cmj-PVylMsa"
      },
      "source": [
        "Respuesta"
      ]
    },
    {
      "cell_type": "code",
      "execution_count": 50,
      "metadata": {
        "id": "Jkx8GeiYlUz1",
        "outputId": "0280d069-5dbe-4bd6-fbca-dc70e35f1436",
        "colab": {
          "base_uri": "https://localhost:8080/"
        }
      },
      "outputs": [
        {
          "output_type": "stream",
          "name": "stdout",
          "text": [
            "Para el número 42\n",
            "La solución optimizada es: ((((1-2)/3)+5)*9)\n",
            "Evaluando el resultado:\n",
            "    ((((1-2)/3)+5)*9) = 42.0\n",
            "Para el número -4\n",
            "La solución optimizada es: ((((1+2)/3)*4)-8)\n",
            "Evaluando el resultado:\n",
            "    ((((1+2)/3)*4)-8) = -4.0\n",
            "Para el número -10\n",
            "La solución optimizada es: ((((1/2)+3)-6)*4)\n",
            "Evaluando el resultado:\n",
            "    ((((1/2)+3)-6)*4) = -10.0\n",
            "Para el número 33\n",
            "La solución optimizada es: ((((1-2)/3)+4)*9)\n",
            "Evaluando el resultado:\n",
            "    ((((1-2)/3)+4)*9) = 33.0\n",
            "Para el número -46\n",
            "La solución optimizada es: ((((1/2)-7)*8)+6)\n",
            "Evaluando el resultado:\n",
            "    ((((1/2)-7)*8)+6) = -46.0\n"
          ]
        }
      ],
      "source": [
        "# Aplicar el algoritmo a los datos generados\n",
        "for target in test_targets:\n",
        "    solution = find_optimized_expression(target)\n",
        "    if solution == \"No solution found\":\n",
        "        print(f\"No se encontró una expresión para {target}\")\n",
        "    else:\n",
        "        print(f\"Para el número {target}\")\n",
        "        print(\"La solución optimizada es:\", solution)\n",
        "        print(\"Evaluando el resultado:\")\n",
        "        print(f\"    {solution} = {eval(solution)}\")\n",
        "\n",
        "# Definir la función objetivo en términos simbólicos\n",
        "x = symbols('x')\n",
        "f = Add(x**2, Mul(2, x))  # Ejemplo simbólico representativo"
      ]
    },
    {
      "cell_type": "markdown",
      "metadata": {
        "id": "eTFWUJQrtGcv"
      },
      "source": [
        "Enumera las referencias que has utilizado(si ha sido necesario) para llevar a cabo el trabajo"
      ]
    },
    {
      "cell_type": "markdown",
      "metadata": {
        "id": "YKQ_mRBttWsP"
      },
      "source": [
        "Respuesta"
      ]
    },
    {
      "cell_type": "markdown",
      "metadata": {
        "id": "kAkDPUyRtYyH"
      },
      "source": [
        "Describe brevemente las lineas de como crees que es posible avanzar en el estudio del problema. Ten en cuenta incluso posibles variaciones del problema y/o variaciones al alza del tamaño"
      ]
    },
    {
      "cell_type": "markdown",
      "metadata": {
        "id": "IE0uZmo-tZu-"
      },
      "source": [
        "Respuesta"
      ]
    }
  ],
  "metadata": {
    "colab": {
      "provenance": []
    },
    "kernelspec": {
      "display_name": "Python 3 (ipykernel)",
      "language": "python",
      "name": "python3"
    },
    "language_info": {
      "codemirror_mode": {
        "name": "ipython",
        "version": 3
      },
      "file_extension": ".py",
      "mimetype": "text/x-python",
      "name": "python",
      "nbconvert_exporter": "python",
      "pygments_lexer": "ipython3",
      "version": "3.12.7"
    }
  },
  "nbformat": 4,
  "nbformat_minor": 0
}