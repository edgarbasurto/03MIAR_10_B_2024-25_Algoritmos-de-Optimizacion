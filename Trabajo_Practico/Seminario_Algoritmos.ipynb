{
 "cells": [
  {
   "cell_type": "markdown",
   "metadata": {
    "id": "hVbXYX-RfPWh"
   },
   "source": [
    "# Algoritmos de optimización - Seminario<br>\n",
    "Nombre y Apellidos:   <br>\n",
    "Url: https://github.com/.../03MAIR---Algoritmos-de-Optimizacion---2019/tree/master/SEMINARIO<br>\n",
    "Problema:\n",
    "> 1. Sesiones de doblaje <br>\n",
    ">2. Organizar los horarios de partidos de La Liga<br>\n",
    ">3. Combinar cifras y operaciones\n",
    "\n",
    "Descripción del problema:(copiar enunciado)\n",
    "\n",
    "....\n",
    "\n",
    "(*) La respuesta es obligatoria\n",
    "\n",
    "Se precisa coordinar el doblaje de una película. Los actores del doblaje deben coincidir en las tomas en las que sus personajes aparecen juntos en las diferentes tomas. Los actores de doblaje cobran toda la misma cantidad por cada día que deben desplazarse hasta el estudio de grabación independientemente del número de tomas que se graben. No es posible grabar más de 6 tomas por día. El objetivo es planificar las sesiones por día de manera que el gasto por los servicios de los actores de doblaje sea el menor posible.\n",
    "\n",
    "Número de actores: 10 Número de tomas : 30\n",
    "\n",
    "\n",
    "\n",
    "                                        "
   ]
  },
  {
   "cell_type": "code",
   "execution_count": 3,
   "metadata": {
    "id": "AiskKkzZfy4e"
   },
   "outputs": [
    {
     "name": "stdout",
     "output_type": "stream",
     "text": [
      "Planificación de las sesiones de grabación:\n",
      "Día 1 : [[1, 0, 1, 0, 0, 0, 0, 0, 0, 0], [1, 0, 1, 0, 0, 0, 0, 0, 0, 0], [1, 0, 1, 0, 0, 0, 0, 0, 0, 0]]\n",
      "Día 2 : [[1, 1, 0, 1, 1, 0, 0, 0, 0, 0], [1, 1, 0, 1, 1, 0, 0, 0, 0, 0]]\n",
      "Día 3 : [[0, 0, 1, 0, 0, 1, 0, 0, 0, 0], [0, 0, 1, 0, 0, 1, 0, 0, 0, 0]]\n",
      "Día 4 : [[1, 0, 0, 1, 0, 0, 0, 0, 0, 0], [1, 0, 0, 1, 0, 0, 0, 0, 0, 0]]\n",
      "Día 5 : [[1, 1, 1, 1, 1, 0, 0, 0, 0, 0]]\n",
      "Día 6 : [[0, 0, 1, 1, 1, 0, 0, 0, 0, 0]]\n",
      "Día 7 : [[0, 1, 0, 0, 1, 0, 1, 0, 0, 0]]\n",
      "Día 8 : [[1, 1, 0, 0, 0, 0, 1, 1, 0, 0]]\n",
      "Día 9 : [[0, 1, 0, 1, 0, 0, 0, 1, 0, 0]]\n",
      "Día 10 : [[1, 1, 0, 0, 0, 1, 0, 0, 0, 0]]\n",
      "Día 11 : [[1, 1, 0, 1, 0, 0, 0, 0, 0, 0]]\n",
      "Día 12 : [[1, 1, 0, 0, 0, 1, 0, 0, 1, 0]]\n",
      "Día 13 : [[1, 1, 1, 0, 1, 0, 0, 1, 0, 0]]\n",
      "Día 14 : [[1, 1, 1, 1, 0, 1, 0, 0, 0, 0]]\n",
      "Día 15 : [[1, 0, 0, 1, 1, 0, 0, 0, 0, 0]]\n",
      "Día 16 : [[1, 0, 1, 0, 0, 1, 0, 0, 0, 0]]\n",
      "Día 17 : [[1, 1, 0, 0, 0, 0, 1, 0, 0, 0]]\n",
      "Día 18 : [[0, 0, 0, 1, 0, 0, 0, 0, 0, 1]]\n",
      "Día 19 : [[1, 0, 1, 1, 1, 0, 0, 0, 0, 0]]\n",
      "Día 20 : [[0, 0, 0, 0, 0, 1, 0, 1, 0, 0]]\n",
      "Día 21 : [[1, 1, 1, 1, 0, 0, 0, 0, 0, 0]]\n",
      "Día 22 : [[1, 1, 0, 1, 0, 0, 0, 0, 0, 1]]\n",
      "Día 23 : [[1, 0, 1, 0, 1, 0, 0, 0, 1, 0]]\n",
      "Día 24 : [[0, 0, 0, 1, 1, 0, 0, 0, 0, 0]]\n",
      "Día 25 : [[1, 0, 0, 0, 1, 1, 0, 0, 0, 0]]\n"
     ]
    }
   ],
   "source": [
    "def planificar_doblaje(tomas):\n",
    "    # Crear un diccionario para agrupar las tomas que comparten actores\n",
    "    grupos_actores = {}\n",
    "\n",
    "    for i, toma in enumerate(tomas):\n",
    "        # Crear una clave única para cada grupo de actores en la toma\n",
    "        clave_grupo = tuple(sorted([j for j, actor in enumerate(toma) if actor == 1]))\n",
    "\n",
    "        if clave_grupo not in grupos_actores:\n",
    "            grupos_actores[clave_grupo] = []\n",
    "        grupos_actores[clave_grupo].append(i)\n",
    "\n",
    "    # Ordenar los grupos de tomas en función de su tamaño (cantidad de actores)\n",
    "    grupos_ordenados = sorted(grupos_actores.values(), key=len, reverse=True)\n",
    "\n",
    "    # Planificar las sesiones de grabación\n",
    "    dias_grabacion = []\n",
    "    for grupo in grupos_ordenados:\n",
    "        # Agrupar las tomas del grupo en diferentes días\n",
    "        for i in range(0, len(grupo), 6):\n",
    "            dias_grabacion.append([tomas[j] for j in grupo[i:i+6]])\n",
    "\n",
    "    return dias_grabacion\n",
    "\n",
    "# Ejemplo de tomas proporcionadas\n",
    "tomas = [\n",
    "    [1, 1, 1, 1, 1, 0, 0, 0, 0, 0],\n",
    "    [0, 0, 1, 1, 1, 0, 0, 0, 0, 0],\n",
    "    [0, 1, 0, 0, 1, 0, 1, 0, 0, 0],\n",
    "    [1, 1, 0, 0, 0, 0, 1, 1, 0, 0],\n",
    "    [0, 1, 0, 1, 0, 0, 0, 1, 0, 0],\n",
    "    [1, 1, 0, 1, 1, 0, 0, 0, 0, 0],\n",
    "    [1, 1, 0, 1, 1, 0, 0, 0, 0, 0],\n",
    "    [1, 1, 0, 0, 0, 1, 0, 0, 0, 0],\n",
    "    [1, 1, 0, 1, 0, 0, 0, 0, 0, 0],\n",
    "    [1, 1, 0, 0, 0, 1, 0, 0, 1, 0],\n",
    "    [1, 1, 1, 0, 1, 0, 0, 1, 0, 0],\n",
    "    [1, 1, 1, 1, 0, 1, 0, 0, 0, 0],\n",
    "    [1, 0, 0, 1, 1, 0, 0, 0, 0, 0],\n",
    "    [1, 0, 1, 0, 0, 1, 0, 0, 0, 0],\n",
    "    [1, 1, 0, 0, 0, 0, 1, 0, 0, 0],\n",
    "    [0, 0, 0, 1, 0, 0, 0, 0, 0, 1],\n",
    "    [1, 0, 1, 0, 0, 0, 0, 0, 0, 0],\n",
    "    [0, 0, 1, 0, 0, 1, 0, 0, 0, 0],\n",
    "    [1, 0, 1, 0, 0, 0, 0, 0, 0, 0],\n",
    "    [1, 0, 1, 1, 1, 0, 0, 0, 0, 0],\n",
    "    [0, 0, 0, 0, 0, 1, 0, 1, 0, 0],\n",
    "    [1, 1, 1, 1, 0, 0, 0, 0, 0, 0],\n",
    "    [1, 0, 1, 0, 0, 0, 0, 0, 0, 0], #23\n",
    "    [0, 0, 1, 0, 0, 1, 0, 0, 0, 0], #24\n",
    "    [1, 1, 0, 1, 0, 0, 0, 0, 0, 1], #25\n",
    "    [1, 0, 1, 0, 1, 0, 0, 0, 1, 0], #26\n",
    "    [0, 0, 0, 1, 1, 0, 0, 0, 0, 0], #27\n",
    "    [1, 0, 0, 1, 0, 0, 0, 0, 0, 0], #28\n",
    "    [1, 0, 0, 0, 1, 1, 0, 0, 0, 0], #29\n",
    "    [1, 0, 0, 1, 0, 0, 0, 0, 0, 0] #30\n",
    "]\n",
    "\n",
    "# Planificar las sesiones de grabación\n",
    "dias = planificar_doblaje(tomas)\n",
    "\n",
    "# Imprimir la planificación de las sesiones de grabación\n",
    "print(\"Planificación de las sesiones de grabación:\")\n",
    "for i, dia in enumerate(dias, start=1):\n",
    "    print(\"Día\", i, \":\", dia)"
   ]
  },
  {
   "cell_type": "markdown",
   "metadata": {
    "id": "3_-exlrTgLd-"
   },
   "source": [
    "### (*)¿Cuantas posibilidades hay sin tener en cuenta las restricciones?<br>\n",
    "\n",
    "Para calcular el número de posibilidades sin tener en cuenta las restricciones, podemos usar la siguiente fórmula:\n",
    "\n",
    "Posibilidades = n! / (m! * k!)\n",
    "\n",
    "Donde:\n",
    "\n",
    "n es el número total de tomas (30 en este caso). m es el número de actores que participan en una toma (10 en este caso). k es el número de tomas que se graban en un día (6 en este caso). Sustituyendo los valores en la fórmula, obtenemos:\n",
    "\n",
    "Posibilidades = 30! / (10! * 6!) = 1.225.141.414.343.632.000\n",
    "\n",
    "\n",
    "### ¿Cuantas posibilidades hay teniendo en cuenta todas las restricciones.\n",
    "\n",
    "Podemos utilizar un enfoque heurístico para encontrar una solución aproximada al problema. Una estrategia podría ser la siguiente:\n",
    "\n",
    "Agrupar las tomas por actores: Se pueden crear 2^10 (1024) grupos de tomas, donde cada grupo contiene todas las tomas que comparten al menos un actor.\n",
    "Ordenar los grupos por tamaño: El número de formas de ordenar los grupos por tamaño es n! (factorial de n), donde n es el número de grupos.\n",
    "Combinar las tomas dentro de cada grupo: El número de formas de combinar las tomas dentro de cada grupo depende del tamaño del grupo.\n",
    "\n",
    "Para un grupo de tamaño k, hay k! formas de combinar las tomas.\n",
    "\n",
    "\n",
    "Sumando el número de posibilidades para todos los grupos, obtenemos una estimación del número total de posibilidades:\n",
    "\n",
    "Posibilidades ≈ 2^10 * n! * Σ(k! for k in range(1, 11))\n",
    "\n",
    "Sustituyendo los valores, obtenemos:\n",
    "\n",
    "Posibilidades ≈ 1.024 * 30! * (1! + 2! + 3! + ... + 10!)\n",
    "\n",
    "Este número es una estimación inferior del número real de posibilidades, ya que no toma en cuenta las restricciones de que no se pueden grabar más de 6 tomas por día.\n",
    "\n",
    "El número real de posibilidades es probable que sea mayor que esta estimación, pero aún así es significativamente menor que el número de posibilidades sin restricciones.\n"
   ]
  },
  {
   "cell_type": "markdown",
   "metadata": {
    "id": "WfCUqJyKhPcw"
   },
   "source": [
    "Respuesta"
   ]
  },
  {
   "cell_type": "markdown",
   "metadata": {
    "id": "iq6Fe32MgpDX"
   },
   "source": []
  },
  {
   "cell_type": "markdown",
   "metadata": {
    "id": "dzynfVJahHoY"
   },
   "source": [
    "Modelo para el espacio de soluciones<br>\n",
    "(*) ¿Cual es la estructura de datos que mejor se adapta al problema? Argumentalo.(Es posible que hayas elegido una al principio y veas la necesidad de cambiar, arguentalo)\n"
   ]
  },
  {
   "cell_type": "markdown",
   "metadata": {
    "id": "xFIJrOwKi2Ti"
   },
   "source": [
    "Respuesta"
   ]
  },
  {
   "cell_type": "code",
   "execution_count": null,
   "metadata": {
    "id": "38c-7-ejhJmA"
   },
   "outputs": [],
   "source": []
  },
  {
   "cell_type": "markdown",
   "metadata": {
    "id": "7Z9U2W7bi-XS"
   },
   "source": [
    "Según el modelo para el espacio de soluciones<br>\n",
    "(*)¿Cual es la función objetivo?\n",
    "\n",
    "(*)¿Es un problema de maximización o minimización?"
   ]
  },
  {
   "cell_type": "markdown",
   "metadata": {
    "id": "hBalWLM7j1_d"
   },
   "source": [
    "Respuesta"
   ]
  },
  {
   "cell_type": "code",
   "execution_count": null,
   "metadata": {
    "id": "pDA-rg3Gj5Lz"
   },
   "outputs": [],
   "source": []
  },
  {
   "cell_type": "markdown",
   "metadata": {
    "id": "rlnTYgY1j6I2"
   },
   "source": [
    "Diseña un algoritmo para resolver el problema por fuerza bruta"
   ]
  },
  {
   "cell_type": "markdown",
   "metadata": {
    "id": "70rDgxYXkC8r"
   },
   "source": [
    "Respuesta"
   ]
  },
  {
   "cell_type": "code",
   "execution_count": 9,
   "metadata": {
    "id": "CJb5sQ0qkENy"
   },
   "outputs": [
    {
     "name": "stdout",
     "output_type": "stream",
     "text": [
      "Planificación de las sesiones de grabación:\n",
      "Día 1 : [1, 1, 1, 1, 1, 0]\n",
      "Día 2 : [1, 1, 1, 1, 1, 0]\n",
      "Día 3 : [0, 0, 1, 1, 1, 0]\n",
      "Día 4 : [0, 1, 0, 0, 1, 0]\n",
      "Día 5 : [1, 1, 0, 0, 0, 0]\n",
      "Día 6 : [0, 1, 0, 1, 0, 0]\n",
      "Día 7 : [1, 1, 0, 1, 1, 0]\n",
      "Día 8 : [1, 1, 0, 1, 1, 0]\n",
      "Día 9 : [1, 1, 0, 0, 0, 1]\n",
      "Día 10 : [1, 1, 0, 1, 0, 0]\n",
      "Día 11 : [1, 1, 0, 0, 0, 1]\n",
      "Día 12 : [1, 1, 1, 0, 1, 0]\n",
      "Día 13 : [1, 1, 1, 1, 0, 1]\n",
      "Día 14 : [1, 0, 0, 1, 1, 0]\n",
      "Día 15 : [1, 0, 1, 0, 0, 1]\n",
      "Día 16 : [1, 1, 0, 0, 0, 0]\n",
      "Día 17 : [0, 0, 0, 1, 0, 0]\n",
      "Día 18 : [1, 0, 1, 0, 0, 0]\n",
      "Día 19 : [0, 0, 1, 0, 0, 1]\n",
      "Día 20 : [1, 0, 1, 0, 0, 0]\n",
      "Día 21 : [1, 0, 1, 1, 1, 0]\n",
      "Día 22 : [0, 0, 0, 0, 0, 1]\n",
      "Día 23 : [1, 1, 1, 1, 0, 0]\n",
      "Día 24 : [1, 0, 1, 0, 0, 0]\n",
      "Día 25 : [0, 0, 1, 0, 0, 1]\n",
      "Día 26 : [1, 1, 0, 1, 0, 0]\n",
      "Día 27 : [1, 0, 1, 0, 1, 0]\n",
      "Día 28 : [0, 0, 0, 1, 1, 0]\n",
      "Día 29 : [1, 0, 0, 1, 0, 0]\n",
      "Día 30 : [1, 0, 0, 0, 1, 1]\n",
      "Día 31 : [1, 0, 0, 1, 0, 0]\n"
     ]
    }
   ],
   "source": [
    "from itertools import combinations  # Importa la función combinations del módulo itertools\n",
    "\n",
    "def calcular_costo(combinacion, tomas):\n",
    "  \"\"\"\n",
    "  Calcula el costo total de una combinación de tomas.\n",
    "\n",
    "  Args:\n",
    "    combinacion: Una lista que representa una combinación de tomas.\n",
    "    tomas: Una lista de listas que representa las tomas.\n",
    "\n",
    "  Returns:\n",
    "    El costo total de la combinación.\n",
    "  \"\"\"\n",
    "  costo = 0  # Inicializa el costo en 0\n",
    "  for toma in combinacion:  # Itera sobre cada toma en la combinación\n",
    "    costo += sum(tomas[toma])  # Suma el costo de la toma al costo total\n",
    "  return costo  # Retorna el costo total\n",
    "\n",
    "def planificar_doblaje_fuerza_bruta(tomas, max_sesion_size):\n",
    "  \"\"\"\n",
    "  Planifica las sesiones de doblaje utilizando un algoritmo de fuerza bruta.\n",
    "\n",
    "  Args:\n",
    "    tomas: Una lista de listas que representa las tomas.\n",
    "    max_sesion_size: El tamaño máximo de una sesión de grabación.\n",
    "\n",
    "  Returns:\n",
    "    Una lista de listas que representa la planificación óptima de las sesiones de grabación.\n",
    "  \"\"\"\n",
    "  planificacion_optima = []  # Inicializa la lista de la planificación óptima\n",
    "  mejor_costo = float('inf')  # Inicializa el mejor costo con infinito\n",
    "\n",
    "  for grupo_tomas in tomas:  # Itera sobre cada grupo de tomas\n",
    "    for combinacion in combinations(grupo_tomas, max_sesion_size):  # Genera todas las combinaciones posibles de tamaño max_sesion_size\n",
    "      costo = calcular_costo(combinacion, tomas)  # Calcula el costo de la combinación\n",
    "      if costo < mejor_costo:  # Si el costo es menor al mejor costo actual\n",
    "        mejor_costo = costo  # Actualiza el mejor costo\n",
    "        planificacion_optima = [list(combinacion)]  # Actualiza la planificación óptima con la nueva combinación\n",
    "\n",
    "  for grupo_tomas in tomas:  # Itera sobre cada grupo de tomas nuevamente\n",
    "    for i in range(len(grupo_tomas) // max_sesion_size):  # Divide el grupo en sesiones del tamaño máximo\n",
    "      planificacion_optima.append(list(grupo_tomas[i*max_sesion_size:(i+1)*max_sesion_size]))  # Agrega la sesión a la planificación óptima\n",
    "\n",
    "  return planificacion_optima  # Retorna la planificación óptima\n",
    "\n",
    "# Ejemplo de tomas\n",
    "tomas = [\n",
    "    [1, 1, 1, 1, 1, 0, 0, 0, 0, 0],\n",
    "    [0, 0, 1, 1, 1, 0, 0, 0, 0, 0],\n",
    "    [0, 1, 0, 0, 1, 0, 1, 0, 0, 0],\n",
    "    [1, 1, 0, 0, 0, 0, 1, 1, 0, 0],\n",
    "    [0, 1, 0, 1, 0, 0, 0, 1, 0, 0],\n",
    "    [1, 1, 0, 1, 1, 0, 0, 0, 0, 0],\n",
    "    [1, 1, 0, 1, 1, 0, 0, 0, 0, 0],\n",
    "    [1, 1, 0, 0, 0, 1, 0, 0, 0, 0],\n",
    "    [1, 1, 0, 1, 0, 0, 0, 0, 0, 0],\n",
    "    [1, 1, 0, 0, 0, 1, 0, 0, 1, 0],\n",
    "    [1, 1, 1, 0, 1, 0, 0, 1, 0, 0],\n",
    "    [1, 1, 1, 1, 0, 1, 0, 0, 0, 0],\n",
    "    [1, 0, 0, 1, 1, 0, 0, 0, 0, 0],\n",
    "    [1, 0, 1, 0, 0, 1, 0, 0, 0, 0],\n",
    "    [1, 1, 0, 0, 0, 0, 1, 0, 0, 0],\n",
    "    [0, 0, 0, 1, 0, 0, 0, 0, 0, 1],\n",
    "    [1, 0, 1, 0, 0, 0, 0, 0, 0, 0],\n",
    "    [0, 0, 1, 0, 0, 1, 0, 0, 0, 0],\n",
    "    [1, 0, 1, 0, 0, 0, 0, 0, 0, 0],\n",
    "    [1, 0, 1, 1, 1, 0, 0, 0, 0, 0],\n",
    "    [0, 0, 0, 0, 0, 1, 0, 1, 0, 0],\n",
    "    [1, 1, 1, 1, 0, 0, 0, 0, 0, 0],\n",
    "    [1, 0, 1, 0, 0, 0, 0, 0, 0, 0], #23\n",
    "    [0, 0, 1, 0, 0, 1, 0, 0, 0, 0], #24\n",
    "    [1, 1, 0, 1, 0, 0, 0, 0, 0, 1], #25\n",
    "    [1, 0, 1, 0, 1, 0, 0, 0, 1, 0], #26\n",
    "    [0, 0, 0, 1, 1, 0, 0, 0, 0, 0], #27\n",
    "    [1, 0, 0, 1, 0, 0, 0, 0, 0, 0], #28\n",
    "    [1, 0, 0, 0, 1, 1, 0, 0, 0, 0], #29\n",
    "    [1, 0, 0, 1, 0, 0, 0, 0, 0, 0] #30\n",
    "]\n",
    "\n",
    "# Planificar las sesiones de grabación\n",
    "planificacion = planificar_doblaje_fuerza_bruta(tomas, 6)  # Llama a la función de planificación de doblaje con el tamaño máximo de sesión especificado\n",
    "\n",
    "# Imprimir la planificación de las sesiones de grabación\n",
    "print(\"Planificación de las sesiones de grabación:\")\n",
    "for i, dia in enumerate(planificacion, start=1):  # Itera sobre cada día en la planificación\n",
    "  print(\"Día\", i, \":\", dia)  # Imprime el día y la sesión correspondiente"
   ]
  },
  {
   "cell_type": "markdown",
   "metadata": {
    "id": "tgrnsC2nkFa8"
   },
   "source": [
    "Calcula la complejidad del algoritmo por fuerza bruta"
   ]
  },
  {
   "cell_type": "markdown",
   "metadata": {
    "id": "9eUd3xwckP68"
   },
   "source": [
    "Respuesta"
   ]
  },
  {
   "cell_type": "code",
   "execution_count": null,
   "metadata": {
    "id": "rvZWwL-ckRST"
   },
   "outputs": [],
   "source": []
  },
  {
   "cell_type": "markdown",
   "metadata": {
    "id": "txbrmLmskReM"
   },
   "source": [
    "(*)Diseña un algoritmo que mejore la complejidad del algortimo por fuerza bruta. Argumenta porque crees que mejora el algoritmo por fuerza bruta"
   ]
  },
  {
   "cell_type": "markdown",
   "metadata": {
    "id": "hLrVwt5QkZPD"
   },
   "source": [
    "Respuesta"
   ]
  },
  {
   "cell_type": "code",
   "execution_count": 11,
   "metadata": {
    "id": "m1eyM21Vkabg"
   },
   "outputs": [
    {
     "name": "stdout",
     "output_type": "stream",
     "text": [
      "Planificación óptima de las sesiones de grabación:\n",
      "Sesión 1 : [[0, 0, 0, 1, 0, 0, 0, 0, 0, 1]]\n",
      "Sesión 2 : [[1, 0, 1, 0, 0, 0, 0, 0, 0, 0]]\n",
      "Sesión 3 : [[0, 0, 1, 0, 0, 1, 0, 0, 0, 0]]\n",
      "Sesión 4 : [[1, 0, 1, 0, 0, 0, 0, 0, 0, 0]]\n",
      "Sesión 5 : [[0, 0, 0, 0, 0, 1, 0, 1, 0, 0]]\n",
      "Sesión 6 : [[1, 0, 1, 0, 0, 0, 0, 0, 0, 0], [0, 0, 1, 0, 0, 1, 0, 0, 0, 0], [0, 0, 0, 1, 1, 0, 0, 0, 0, 0], [1, 0, 0, 1, 0, 0, 0, 0, 0, 0], [1, 0, 0, 1, 0, 0, 0, 0, 0, 0], [0, 0, 1, 1, 1, 0, 0, 0, 0, 0], [0, 1, 0, 0, 1, 0, 1, 0, 0, 0], [0, 1, 0, 1, 0, 0, 0, 1, 0, 0], [1, 1, 0, 0, 0, 1, 0, 0, 0, 0], [1, 1, 0, 1, 0, 0, 0, 0, 0, 0], [1, 0, 0, 1, 1, 0, 0, 0, 0, 0], [1, 0, 1, 0, 0, 1, 0, 0, 0, 0], [1, 1, 0, 0, 0, 0, 1, 0, 0, 0], [1, 0, 0, 0, 1, 1, 0, 0, 0, 0], [1, 1, 0, 0, 0, 0, 1, 1, 0, 0], [1, 1, 0, 1, 1, 0, 0, 0, 0, 0], [1, 1, 0, 1, 1, 0, 0, 0, 0, 0], [1, 1, 0, 0, 0, 1, 0, 0, 1, 0], [1, 0, 1, 1, 1, 0, 0, 0, 0, 0], [1, 1, 1, 1, 0, 0, 0, 0, 0, 0], [1, 1, 0, 1, 0, 0, 0, 0, 0, 1], [1, 0, 1, 0, 1, 0, 0, 0, 1, 0], [1, 1, 1, 1, 1, 0, 0, 0, 0, 0], [1, 1, 1, 0, 1, 0, 0, 1, 0, 0], [1, 1, 1, 1, 0, 1, 0, 0, 0, 0]]\n"
     ]
    }
   ],
   "source": [
    "def ordenar_por_costo(tomas):\n",
    "    # Función para ordenar las tomas por costo\n",
    "    return sorted(tomas, key=lambda x: sum(x))\n",
    "\n",
    "def calcular_costo_total(tomas, inicio, fin):\n",
    "    # Función para calcular el costo total de un conjunto de tomas\n",
    "    costo_total = 0\n",
    "    for i in range(inicio, fin):\n",
    "        costo_total += sum(tomas[i])\n",
    "    return costo_total\n",
    "\n",
    "def planificar_sesiones_grabacion(tomas, N):\n",
    "    # Ordenar las tomas por costo\n",
    "    tomas_ordenadas = ordenar_por_costo(tomas)\n",
    "\n",
    "    # Definir la matriz de programación dinámica\n",
    "    dp = [[float('inf')] * (N+1) for _ in range(len(tomas_ordenadas)+1)]\n",
    "\n",
    "    # Inicialización de la matriz\n",
    "    dp[0][0] = 0\n",
    "\n",
    "    # Calcular la matriz dp\n",
    "    for i in range(1, len(tomas_ordenadas) + 1):\n",
    "        for j in range(1, N + 1):\n",
    "            for k in range(0, i):\n",
    "                dp[i][j] = min(dp[i][j], dp[k][j-1] + calcular_costo_total(tomas_ordenadas, k, i))\n",
    "\n",
    "    # Recuperar la solución óptima\n",
    "    solucion_optima = []\n",
    "    i = len(tomas_ordenadas)\n",
    "    j = N\n",
    "    while i > 0 and j > 0:\n",
    "        for k in range(0, i):\n",
    "            if dp[i][j] == dp[k][j-1] + calcular_costo_total(tomas_ordenadas, k, i):\n",
    "                solucion_optima.insert(0, tomas_ordenadas[k:i])\n",
    "                i = k\n",
    "                j -= 1\n",
    "                break\n",
    "\n",
    "    return solucion_optima\n",
    "\n",
    "# Ejemplo de tomas\n",
    "tomas =[\n",
    "    [1, 1, 1, 1, 1, 0, 0, 0, 0, 0],\n",
    "    [0, 0, 1, 1, 1, 0, 0, 0, 0, 0],\n",
    "    [0, 1, 0, 0, 1, 0, 1, 0, 0, 0],\n",
    "    [1, 1, 0, 0, 0, 0, 1, 1, 0, 0],\n",
    "    [0, 1, 0, 1, 0, 0, 0, 1, 0, 0],\n",
    "    [1, 1, 0, 1, 1, 0, 0, 0, 0, 0],\n",
    "    [1, 1, 0, 1, 1, 0, 0, 0, 0, 0],\n",
    "    [1, 1, 0, 0, 0, 1, 0, 0, 0, 0],\n",
    "    [1, 1, 0, 1, 0, 0, 0, 0, 0, 0],\n",
    "    [1, 1, 0, 0, 0, 1, 0, 0, 1, 0],\n",
    "    [1, 1, 1, 0, 1, 0, 0, 1, 0, 0],\n",
    "    [1, 1, 1, 1, 0, 1, 0, 0, 0, 0],\n",
    "    [1, 0, 0, 1, 1, 0, 0, 0, 0, 0],\n",
    "    [1, 0, 1, 0, 0, 1, 0, 0, 0, 0],\n",
    "    [1, 1, 0, 0, 0, 0, 1, 0, 0, 0],\n",
    "    [0, 0, 0, 1, 0, 0, 0, 0, 0, 1],\n",
    "    [1, 0, 1, 0, 0, 0, 0, 0, 0, 0],\n",
    "    [0, 0, 1, 0, 0, 1, 0, 0, 0, 0],\n",
    "    [1, 0, 1, 0, 0, 0, 0, 0, 0, 0],\n",
    "    [1, 0, 1, 1, 1, 0, 0, 0, 0, 0],\n",
    "    [0, 0, 0, 0, 0, 1, 0, 1, 0, 0],\n",
    "    [1, 1, 1, 1, 0, 0, 0, 0, 0, 0],\n",
    "    [1, 0, 1, 0, 0, 0, 0, 0, 0, 0], #23\n",
    "    [0, 0, 1, 0, 0, 1, 0, 0, 0, 0], #24\n",
    "    [1, 1, 0, 1, 0, 0, 0, 0, 0, 1], #25\n",
    "    [1, 0, 1, 0, 1, 0, 0, 0, 1, 0], #26\n",
    "    [0, 0, 0, 1, 1, 0, 0, 0, 0, 0], #27\n",
    "    [1, 0, 0, 1, 0, 0, 0, 0, 0, 0], #28\n",
    "    [1, 0, 0, 0, 1, 1, 0, 0, 0, 0], #29\n",
    "    [1, 0, 0, 1, 0, 0, 0, 0, 0, 0] #30\n",
    "]\n",
    "# Planificar sesiones de grabación\n",
    "N = 6\n",
    "solucion_optima = planificar_sesiones_grabacion(tomas, N)\n",
    "\n",
    "# Imprimir la solución óptima\n",
    "print(\"Planificación óptima de las sesiones de grabación:\")\n",
    "for i, sesion in enumerate(solucion_optima, start=1):\n",
    "    print(\"Sesión\", i, \":\", sesion)"
   ]
  },
  {
   "cell_type": "markdown",
   "metadata": {
    "id": "eGDB4K6uk1iN"
   },
   "source": [
    "(*)Calcula la complejidad del algoritmo"
   ]
  },
  {
   "cell_type": "markdown",
   "metadata": {
    "id": "NhpTh_BPk1ms"
   },
   "source": [
    "Respuesta"
   ]
  },
  {
   "cell_type": "code",
   "execution_count": null,
   "metadata": {
    "id": "nREzhkStlCq8"
   },
   "outputs": [],
   "source": []
  },
  {
   "cell_type": "markdown",
   "metadata": {
    "id": "3M6QjTsSkmYe"
   },
   "source": [
    "Según el problema (y tenga sentido), diseña un juego de datos de entrada aleatorios"
   ]
  },
  {
   "cell_type": "markdown",
   "metadata": {
    "id": "Jc3_OlyNkvjZ"
   },
   "source": [
    "Respuesta"
   ]
  },
  {
   "cell_type": "code",
   "execution_count": 13,
   "metadata": {
    "id": "sJ-N2etjkyWc"
   },
   "outputs": [
    {
     "name": "stdout",
     "output_type": "stream",
     "text": [
      "Datos generados:\n",
      "Tomas: [[0, 0, 1, 1, 0, 0, 0, 1, 0, 1], [0, 0, 0, 0, 0, 0, 1, 1, 0, 0], [1, 0, 0, 1, 1, 0, 1, 1, 1, 0], [1, 0, 1, 0, 0, 0, 0, 0, 1, 0], [1, 0, 0, 0, 1, 0, 1, 0, 0, 1], [1, 0, 0, 1, 0, 0, 0, 1, 0, 0], [1, 1, 1, 1, 1, 1, 0, 1, 0, 0], [1, 0, 1, 1, 0, 1, 1, 0, 1, 0], [0, 1, 0, 1, 0, 0, 0, 1, 0, 0], [1, 0, 1, 0, 0, 1, 0, 1, 1, 1], [0, 0, 0, 0, 1, 1, 1, 0, 0, 0], [1, 0, 1, 1, 0, 0, 0, 0, 0, 0], [1, 1, 1, 0, 0, 0, 1, 1, 0, 1], [0, 1, 1, 0, 1, 1, 0, 1, 1, 0], [1, 0, 0, 1, 0, 0, 0, 1, 1, 1], [1, 0, 0, 0, 1, 0, 1, 0, 1, 0], [0, 0, 0, 1, 1, 1, 1, 0, 1, 0], [1, 0, 1, 1, 1, 0, 0, 0, 0, 1], [0, 1, 0, 1, 1, 0, 1, 1, 1, 1], [1, 1, 1, 1, 1, 1, 1, 1, 1, 0], [1, 1, 0, 1, 0, 1, 0, 1, 0, 1], [0, 0, 1, 1, 1, 0, 0, 1, 1, 1], [1, 0, 0, 0, 0, 1, 0, 0, 1, 1], [1, 1, 0, 0, 0, 0, 1, 1, 0, 1], [0, 1, 1, 1, 0, 1, 0, 0, 0, 1], [1, 1, 1, 0, 0, 0, 0, 0, 0, 0], [1, 0, 1, 1, 0, 0, 0, 0, 0, 1], [1, 0, 0, 0, 0, 0, 0, 0, 0, 0], [0, 0, 0, 0, 0, 1, 0, 0, 0, 1], [0, 0, 1, 1, 1, 1, 1, 1, 1, 1]]\n",
      "Relaciones entre tomas: [[6, 0], [27, 18], [0, 16], [22, 26], [4, 1], [7, 5], [14, 29], [23, 22], [7, 24], [16, 13], [24, 19], [23, 6], [19, 29], [19, 25], [27, 28], [23, 1], [15, 1], [3, 20], [24, 29], [13, 10]]\n",
      "Costo de desplazamiento por día: [162, 404, 308, 135, 365]\n"
     ]
    }
   ],
   "source": [
    "import random\n",
    "\n",
    "def generar_tomas(num_tomas, num_actores):\n",
    "    tomas = []\n",
    "    for _ in range(num_tomas):\n",
    "        toma = [random.randint(0, 1) for _ in range(num_actores)]\n",
    "        tomas.append(toma)\n",
    "    return tomas\n",
    "\n",
    "def generar_relaciones_tomas(num_tomas, num_relaciones):\n",
    "    relaciones = []\n",
    "    for _ in range(num_relaciones):\n",
    "        relacion = random.sample(range(num_tomas), 2)\n",
    "        relaciones.append(relacion)\n",
    "    return relaciones\n",
    "\n",
    "def generar_costo_desplazamiento(num_dias):\n",
    "    return [random.randint(100, 500) for _ in range(num_dias)]\n",
    "\n",
    "# Definir los parámetros del problema\n",
    "num_actores = 10\n",
    "num_tomas = 30\n",
    "num_relaciones = 20\n",
    "num_dias = num_tomas // 6  # Calcular el número de días necesarios\n",
    "\n",
    "# Generar los datos\n",
    "tomas = generar_tomas(num_tomas, num_actores)\n",
    "relaciones_tomas = generar_relaciones_tomas(num_tomas, num_relaciones)\n",
    "costo_desplazamiento = generar_costo_desplazamiento(num_dias)\n",
    "\n",
    "# Imprimir los datos generados\n",
    "print(\"Datos generados:\")\n",
    "print(\"Tomas:\", tomas)\n",
    "print(\"Relaciones entre tomas:\", relaciones_tomas)\n",
    "print(\"Costo de desplazamiento por día:\", costo_desplazamiento)"
   ]
  },
  {
   "cell_type": "markdown",
   "metadata": {
    "id": "zy5ZROmjlGo1"
   },
   "source": [
    "Aplica el algoritmo al juego de datos generado"
   ]
  },
  {
   "cell_type": "markdown",
   "metadata": {
    "id": "_Cmj-PVylMsa"
   },
   "source": [
    "Respuesta"
   ]
  },
  {
   "cell_type": "code",
   "execution_count": null,
   "metadata": {
    "id": "Jkx8GeiYlUz1"
   },
   "outputs": [],
   "source": []
  },
  {
   "cell_type": "markdown",
   "metadata": {
    "id": "eTFWUJQrtGcv"
   },
   "source": [
    "Enumera las referencias que has utilizado(si ha sido necesario) para llevar a cabo el trabajo"
   ]
  },
  {
   "cell_type": "markdown",
   "metadata": {
    "id": "YKQ_mRBttWsP"
   },
   "source": [
    "Respuesta"
   ]
  },
  {
   "cell_type": "markdown",
   "metadata": {
    "id": "kAkDPUyRtYyH"
   },
   "source": [
    "Describe brevemente las lineas de como crees que es posible avanzar en el estudio del problema. Ten en cuenta incluso posibles variaciones del problema y/o variaciones al alza del tamaño"
   ]
  },
  {
   "cell_type": "markdown",
   "metadata": {
    "id": "IE0uZmo-tZu-"
   },
   "source": [
    "Respuesta"
   ]
  }
 ],
 "metadata": {
  "colab": {
   "provenance": []
  },
  "kernelspec": {
   "display_name": "Python 3 (ipykernel)",
   "language": "python",
   "name": "python3"
  },
  "language_info": {
   "codemirror_mode": {
    "name": "ipython",
    "version": 3
   },
   "file_extension": ".py",
   "mimetype": "text/x-python",
   "name": "python",
   "nbconvert_exporter": "python",
   "pygments_lexer": "ipython3",
   "version": "3.12.7"
  }
 },
 "nbformat": 4,
 "nbformat_minor": 4
}
