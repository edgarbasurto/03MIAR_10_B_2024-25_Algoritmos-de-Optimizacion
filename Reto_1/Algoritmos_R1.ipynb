{
 "cells": [
  {
   "cell_type": "markdown",
   "metadata": {
    "id": "kQn6fbhgtH9I"
   },
   "source": [
    "# Algoritmos de optimización - Reto 1\n",
    "\n",
    "**Nombre:** Edgar Daniel Basurto Cruz <br> \n",
    "**Github:**  <br>"
   ]
  },
  {
   "cell_type": "markdown",
   "metadata": {
    "id": "_t62Ge7ZuKnC"
   },
   "source": [
    "## Torres de Hanoi con Divide y vencerás\n",
    "\n",
    "Resuelve el problema de las [Torres de Hanoi](https://es.wikipedia.org/wiki/Torres_de_Han%C3%B3i) para un número arbitrario de fichas utilizando la técnica de divide y vencerás. "
   ]
  },
  {
   "cell_type": "code",
   "execution_count": 75,
   "metadata": {
    "colab": {
     "base_uri": "https://localhost:8080/"
    },
    "id": "i32G0CUQvauE",
    "outputId": "c3398cec-661d-46a5-b9db-0a0ad168f64a"
   },
   "outputs": [],
   "source": [
    "# Torres de Hanoi\n",
    "def hanoi(n, origen, destino, auxiliar):\n",
    "    \"\"\"\n",
    "    Resuelve el problema de las Torres de Hanoi moviendo n discos desde la torre 'origen'\n",
    "    hacia la torre 'destino', usando la torre 'auxiliar' como apoyo.\n",
    "    \n",
    "    Parámetros:\n",
    "    -----------\n",
    "    n : int              Número de discos a mover.\n",
    "    origen : str         Nombre (o etiqueta) de la torre de origen.\n",
    "    destino : str        Nombre (o etiqueta) de la torre de destino.\n",
    "    auxiliar : str       Nombre (o etiqueta) de la torre auxiliar.\n",
    "    \"\"\"\n",
    "    # Caso base\n",
    "    if n == 1:\n",
    "        print(f\"Mueve disco 1 desde {origen} a {destino}\")\n",
    "    else:\n",
    "        # 1) Mover n-1 discos de la torre origen a la torre auxiliar.\n",
    "        hanoi(n - 1, origen, auxiliar, destino)\n",
    "        \n",
    "        # 2) Mover el disco más grande (el número n) de la torre origen a la torre destino.\n",
    "        print(f\"Mueve disco {n} desde {origen} a {destino}\")\n",
    "        \n",
    "        # 3) Mover los n-1 discos desde la torre auxiliar a la torre destino.\n",
    "        hanoi(n - 1, auxiliar, destino, origen)\n"
   ]
  },
  {
   "cell_type": "code",
   "execution_count": 77,
   "metadata": {},
   "outputs": [
    {
     "name": "stdout",
     "output_type": "stream",
     "text": [
      "****** RESOLUCIÓN CON 4 DISCOS ******\n",
      "Resolución de las Torres de Hanoi para 4 discos:\n",
      "Mueve disco 1 desde A a C\n",
      "Mueve disco 2 desde A a B\n",
      "Mueve disco 1 desde C a B\n",
      "Mueve disco 3 desde A a C\n",
      "Mueve disco 1 desde B a A\n",
      "Mueve disco 2 desde B a C\n",
      "Mueve disco 1 desde A a C\n",
      "Mueve disco 4 desde A a B\n",
      "Mueve disco 1 desde C a B\n",
      "Mueve disco 2 desde C a A\n",
      "Mueve disco 1 desde B a A\n",
      "Mueve disco 3 desde C a B\n",
      "Mueve disco 1 desde A a C\n",
      "Mueve disco 2 desde A a B\n",
      "Mueve disco 1 desde C a B\n"
     ]
    }
   ],
   "source": [
    "# Ejemplo de uso #1\n",
    "if __name__ == \"__main__\":\n",
    "    # PRUEBA #1\n",
    "    numero_de_discos = 4\n",
    "    print(f\"****** RESOLUCIÓN CON {numero_de_discos} DISCOS ******\")\n",
    "    print(f\"Resolución de las Torres de Hanoi para {numero_de_discos} discos:\")\n",
    "    hanoi(numero_de_discos, \"A\", \"B\", \"C\")"
   ]
  },
  {
   "cell_type": "code",
   "execution_count": 79,
   "metadata": {},
   "outputs": [
    {
     "name": "stdout",
     "output_type": "stream",
     "text": [
      "****** RESOLUCIÓN CON 5 DISCOS ******\n",
      "Resolución de las Torres de Hanoi para 5 discos:\n",
      "Mueve disco 1 desde A a B\n",
      "Mueve disco 2 desde A a C\n",
      "Mueve disco 1 desde B a C\n",
      "Mueve disco 3 desde A a B\n",
      "Mueve disco 1 desde C a A\n",
      "Mueve disco 2 desde C a B\n",
      "Mueve disco 1 desde A a B\n",
      "Mueve disco 4 desde A a C\n",
      "Mueve disco 1 desde B a C\n",
      "Mueve disco 2 desde B a A\n",
      "Mueve disco 1 desde C a A\n",
      "Mueve disco 3 desde B a C\n",
      "Mueve disco 1 desde A a B\n",
      "Mueve disco 2 desde A a C\n",
      "Mueve disco 1 desde B a C\n",
      "Mueve disco 5 desde A a B\n",
      "Mueve disco 1 desde C a A\n",
      "Mueve disco 2 desde C a B\n",
      "Mueve disco 1 desde A a B\n",
      "Mueve disco 3 desde C a A\n",
      "Mueve disco 1 desde B a C\n",
      "Mueve disco 2 desde B a A\n",
      "Mueve disco 1 desde C a A\n",
      "Mueve disco 4 desde C a B\n",
      "Mueve disco 1 desde A a B\n",
      "Mueve disco 2 desde A a C\n",
      "Mueve disco 1 desde B a C\n",
      "Mueve disco 3 desde A a B\n",
      "Mueve disco 1 desde C a A\n",
      "Mueve disco 2 desde C a B\n",
      "Mueve disco 1 desde A a B\n"
     ]
    }
   ],
   "source": [
    "# Ejemplo de uso #2\n",
    "if __name__ == \"__main__\":\n",
    "    # PRUEBA #2\n",
    "    numero_de_discos = 5\n",
    "    print(f\"****** RESOLUCIÓN CON {numero_de_discos} DISCOS ******\")\n",
    "    print(f\"Resolución de las Torres de Hanoi para {numero_de_discos} discos:\")\n",
    "    hanoi(numero_de_discos, \"A\", \"B\", \"C\")\n"
   ]
  },
  {
   "cell_type": "markdown",
   "metadata": {},
   "source": [
    "## Sucesión de Fibonacci\n",
    "\n",
    "Cálcula el n-ésimo término de la [Sucesión de Fibonacci](https://es.wikipedia.org/wiki/Sucesi%C3%B3n_de_Fibonacci) mediante un algoritmo recursivo y otro iterativo. Representa gráficamente cómo crece el tiempo de cómputo en función del número de términos para ambos algoritmos. "
   ]
  },
  {
   "cell_type": "code",
   "execution_count": 82,
   "metadata": {
    "colab": {
     "base_uri": "https://localhost:8080/"
    },
    "id": "74qZZAekiNYR",
    "outputId": "acc17268-7f87-4de4-ae5a-4fc6ce09d385"
   },
   "outputs": [],
   "source": [
    "#Sucesión_de_Fibonacci\n",
    "\n",
    "# Recursiva\n",
    "def fibonacci_rec(n):\n",
    "    \"\"\"\n",
    "    Devuelve el n-ésimo término de la sucesión de Fibonacci mediante un algoritmo recursivo.\n",
    "    \n",
    "    n: índice (1-indexado o 0-indexado, depende de nuestra definición)\n",
    "    \n",
    "    La sucesión de Fibonacci se define como:\n",
    "    - fib(0) = 0, fib(1) = 1 (definición estándar, 0-indexado)\n",
    "    - fib(n) = fib(n-1) + fib(n-2) para n >= 2\n",
    "    \"\"\"\n",
    "    if n < 2:\n",
    "        return n\n",
    "    else:\n",
    "        return fibonacci_rec(n - 1) + fibonacci_rec(n - 2)\n",
    "\n",
    "# Iterativa\n",
    "def fibonacci_iter(n):\n",
    "    \"\"\"\n",
    "    Devuelve el n-ésimo término de la sucesión de Fibonacci mediante un algoritmo iterativo.\n",
    "    \n",
    "    n: índice (0-indexado)\n",
    "    \"\"\"\n",
    "    if n < 2:\n",
    "        return n\n",
    "    \n",
    "    # Variables para ir guardando los términos\n",
    "    a, b = 0, 1\n",
    "    for _ in range(2, n + 1):\n",
    "        # La siguiente línea realiza el \"desplazamiento\" de valores\n",
    "        a, b = b, a + b\n",
    "        \n",
    "    return b\n",
    "\n",
    "\n",
    "import time\n",
    "import matplotlib.pyplot as plt\n",
    "\n",
    "def medir_tiempos_fibonacci(max_n=30):\n",
    "    \"\"\"\n",
    "    Mide los tiempos de ejecución de las implementaciones recursiva e iterativa\n",
    "    de Fibonacci para valores de n desde 0 hasta max_n.\n",
    "    \n",
    "    Devuelve tres listas:\n",
    "      - lista_n: valores del número de término de Fibonacci (n)\n",
    "      - tiempos_rec: tiempos de ejecución del método recursivo\n",
    "      - tiempos_iter: tiempos de ejecución del método iterativo\n",
    "    \"\"\"\n",
    "    lista_n = []\n",
    "    tiempos_rec = []\n",
    "    tiempos_iter = []\n",
    "    \n",
    "    for n in range(max_n + 1):\n",
    "        # Medir tiempo versión recursiva\n",
    "        inicio = time.perf_counter()\n",
    "        _ = fibonacci_rec(n)\n",
    "        fin = time.perf_counter()\n",
    "        tiempo_r = fin - inicio\n",
    "        \n",
    "        # Medir tiempo versión iterativa\n",
    "        inicio = time.perf_counter()\n",
    "        _ = fibonacci_iter(n)\n",
    "        fin = time.perf_counter()\n",
    "        tiempo_i = fin - inicio\n",
    "        \n",
    "        lista_n.append(n)\n",
    "        tiempos_rec.append(tiempo_r)\n",
    "        tiempos_iter.append(tiempo_i)\n",
    "    \n",
    "    return lista_n, tiempos_rec, tiempos_iter"
   ]
  },
  {
   "cell_type": "code",
   "execution_count": 84,
   "metadata": {},
   "outputs": [
    {
     "name": "stdout",
     "output_type": "stream",
     "text": [
      "************** EJEMPLO #1 => n = 25 ****************\n"
     ]
    },
    {
     "data": {
      "image/png": "[encoded data removed]",
      "text/plain": [
       "<Figure size 800x500 with 1 Axes>"
      ]
     },
     "metadata": {},
     "output_type": "display_data"
    }
   ],
   "source": [
    "# Ejemplo de uso #1\n",
    "# Ejecución y representación para un rango de n (por ejemplo, hasta 25)\n",
    "if __name__ == \"__main__\":\n",
    "    max_n = 25\n",
    "    print(f\"************** EJEMPLO #1 => n = {max_n} ****************\")\n",
    "    lista_n, tiempos_rec, tiempos_iter = medir_tiempos_fibonacci(max_n)\n",
    "\n",
    "    # Gráfica\n",
    "    plt.figure(figsize=(8, 5))\n",
    "    plt.plot(lista_n, tiempos_rec, label='Recursivo', marker='o')\n",
    "    plt.plot(lista_n, tiempos_iter, label='Iterativo', marker='s')\n",
    "    plt.title(\"Tiempo de cómputo de Fibonacci Recursivo vs Iterativo\")\n",
    "    plt.xlabel(\"n (término de Fibonacci)\")\n",
    "    plt.ylabel(\"Tiempo (segundos)\")\n",
    "    plt.legend()\n",
    "    plt.grid(True)\n",
    "    plt.show()"
   ]
  },
  {
   "cell_type": "code",
   "execution_count": 86,
   "metadata": {},
   "outputs": [
    {
     "name": "stdout",
     "output_type": "stream",
     "text": [
      "************** EJEMPLO #1 => n = 35 ****************\n"
     ]
    },
    {
     "data": {
      "image/png": "[encoded data removed]",
      "text/plain": [
       "<Figure size 800x500 with 1 Axes>"
      ]
     },
     "metadata": {},
     "output_type": "display_data"
    }
   ],
   "source": [
    "# Ejemplo de uso #2\n",
    "# Ejecución y representación para un rango de n (por ejemplo, hasta 35)\n",
    "if __name__ == \"__main__\":\n",
    "    max_n2 = 35\n",
    "    print(f\"************** EJEMPLO #1 => n = {max_n2} ****************\")\n",
    "    lista_n2, tiempos_rec2, tiempos_iter2 = medir_tiempos_fibonacci(max_n2)\n",
    "\n",
    "    # Gráfica\n",
    "    plt.figure(figsize=(8, 5))\n",
    "    plt.plot(lista_n2, tiempos_rec2, label='Recursivo', marker='o')\n",
    "    plt.plot(lista_n2, tiempos_iter2, label='Iterativo', marker='s')\n",
    "    plt.title(\"Tiempo de cómputo de Fibonacci Recursivo vs Iterativo\")\n",
    "    plt.xlabel(\"n (término de Fibonacci)\")\n",
    "    plt.ylabel(\"Tiempo (segundos)\")\n",
    "    plt.legend()\n",
    "    plt.grid(True)\n",
    "    plt.show()"
   ]
  },
  {
   "cell_type": "markdown",
   "metadata": {
    "id": "RgT5XJsZ429L"
   },
   "source": [
    "## Devolución de cambio por técnica voraz\n",
    "\n",
    "Resuelve el [Problema del Cambio de Moneda](https://es.wikipedia.org/wiki/Problema_de_cambio_de_monedas) utilizando una técnica voraz."
   ]
  },
  {
   "cell_type": "code",
   "execution_count": 89,
   "metadata": {
    "colab": {
     "base_uri": "https://localhost:8080/"
    },
    "id": "uJtftBLU4-ap",
    "outputId": "b52f7a2c-771b-4c2e-81ab-c4c3ea01318d"
   },
   "outputs": [],
   "source": [
    "# Problema del cambio de moneda\n",
    "def cambio_greedy(monto, denominaciones):\n",
    "    \"\"\"\n",
    "    Devuelve un diccionario con la cantidad de cada moneda (denominación)\n",
    "    necesaria para cubrir el `monto` con un número mínimo de monedas, \n",
    "    usando una estrategia voraz.\n",
    "    \n",
    "    Parámetros:\n",
    "    -----------\n",
    "    monto : int              Cantidad total que se desea cambiar (en la misma unidad que las denominaciones).\n",
    "    denominaciones : list    Lista de valores de monedas disponibles, preferiblemente ordenada de mayor a menor.\n",
    "        \n",
    "    Retorno:\n",
    "    --------\n",
    "    dict        Un diccionario que asocia cada denominación con la cantidad de monedas usadas.\n",
    "    \"\"\"\n",
    "    # Asegurarnos de que las denominaciones estén ordenadas de mayor a menor\n",
    "    denominaciones = sorted(denominaciones, reverse=True)\n",
    "    \n",
    "    resultado = {}\n",
    "    restante = monto\n",
    "    \n",
    "    for moneda in denominaciones:\n",
    "        if moneda <= restante:\n",
    "            # Calculamos cuántas monedas de esta denominación podemos usar\n",
    "            num_monedas = restante // moneda  # división entera\n",
    "            restante = restante % moneda      # resto\n",
    "            \n",
    "            # Guardamos la información en el resultado\n",
    "            resultado[moneda] = num_monedas\n",
    "            \n",
    "        # Si en algún momento el restante es 0, salimos\n",
    "        if restante == 0:\n",
    "            break\n",
    "    \n",
    "    return resultado\n",
    "    \n",
    "# Definimos un conjunto de denominaciones (en centavos)\n",
    "denominaciones_dolar = [50, 25, 10, 5, 1]\n"
   ]
  },
  {
   "cell_type": "code",
   "execution_count": 91,
   "metadata": {},
   "outputs": [
    {
     "name": "stdout",
     "output_type": "stream",
     "text": [
      "****** PRUEBA DE RESOLUCIÓN #1 ******\n",
      "Para 93 centavos, la solución voraz es:\n",
      "Moneda 50 centavos: 1 unidad(es).\n",
      "Moneda 25 centavos: 1 unidad(es).\n",
      "Moneda 10 centavos: 1 unidad(es).\n",
      "Moneda 5 centavos: 1 unidad(es).\n",
      "Moneda 1 centavos: 3 unidad(es).\n"
     ]
    }
   ],
   "source": [
    "# Ejemplo de uso #1\n",
    "if __name__ == \"__main__\":\n",
    "    print(\"****** PRUEBA DE RESOLUCIÓN #1 ******\")    \n",
    "    # Ejemplo: queremos dar cambio de 93 centavos\n",
    "    monto = 93\n",
    "    \n",
    "    cambio = cambio_greedy(monto, denominaciones_dolar)\n",
    "    print(f\"Para {monto} centavos, la solución voraz es:\")\n",
    "    for moneda, cantidad in cambio.items():\n",
    "        print(f\"Moneda {moneda} centavos: {cantidad} unidad(es).\")"
   ]
  },
  {
   "cell_type": "code",
   "execution_count": 93,
   "metadata": {},
   "outputs": [
    {
     "name": "stdout",
     "output_type": "stream",
     "text": [
      "****** PRUEBA DE RESOLUCIÓN #2 ******\n",
      "Para 87 centavos, la solución voraz es:\n",
      "Moneda 50 centavos: 1 unidad(es).\n",
      "Moneda 25 centavos: 1 unidad(es).\n",
      "Moneda 10 centavos: 1 unidad(es).\n",
      "Moneda 1 centavos: 2 unidad(es).\n"
     ]
    }
   ],
   "source": [
    "# Ejemplo de uso #2\n",
    "if __name__ == \"__main__\":\n",
    "    print(\"****** PRUEBA DE RESOLUCIÓN #2 ******\")\n",
    "    # Ejemplo: queremos dar cambio de 87 centavos\n",
    "    monto = 87\n",
    "    \n",
    "    cambio = cambio_greedy(monto, denominaciones_dolar)\n",
    "    print(f\"Para {monto} centavos, la solución voraz es:\")\n",
    "    for moneda, cantidad in cambio.items():\n",
    "        print(f\"Moneda {moneda} centavos: {cantidad} unidad(es).\")"
   ]
  },
  {
   "cell_type": "markdown",
   "metadata": {
    "id": "g8M9GTvy_Fa3"
   },
   "source": [
    "## N-Reinas por técnica de vuelta atrás\n",
    "Resuelve el [Problema de las N-Reinas](https://es.wikipedia.org/wiki/Problema_de_las_ocho_reinas) en un tablero de dimensión N mediante la técnica de la vuelta atrás (backtraking)."
   ]
  },
  {
   "cell_type": "code",
   "execution_count": 96,
   "metadata": {
    "id": "FqOPyCmv_K65"
   },
   "outputs": [],
   "source": [
    "# Problema de las N-Reinas\n",
    "\n",
    "def solve_n_queens(n):\n",
    "    \"\"\"\n",
    "    Devuelve todas las soluciones posibles al Problema de las N-Reinas.\n",
    "    Cada solución se representa como una lista donde el índice es la fila\n",
    "    y el valor es la columna de la posición de la reina en esa fila.\n",
    "    \n",
    "    Parámetros:\n",
    "    -----------\n",
    "    n : int\n",
    "        Tamaño del tablero (n x n) y número de reinas a colocar.\n",
    "        \n",
    "    Retorna:\n",
    "    --------\n",
    "    soluciones : list of list of int\n",
    "        Lista de todas las soluciones. Cada solución es una lista de enteros.\n",
    "    \"\"\"\n",
    "    soluciones = []\n",
    "    # `sol` será una lista de tamaño n, donde sol[i] = col indica \n",
    "    # que la reina de la fila i está colocada en la columna col.\n",
    "    sol = [-1] * n  \n",
    "    \n",
    "    def es_valida(fila, col):\n",
    "        \"\"\"\n",
    "        Verifica si es válido colocar una reina en (fila, col),\n",
    "        dada la configuración parcial 'sol' en filas anteriores.\n",
    "        \"\"\"\n",
    "        # Revisar filas anteriores (0 hasta fila-1)\n",
    "        for fila_anterior in range(fila):\n",
    "            col_anterior = sol[fila_anterior]\n",
    "            # 1) Verificar si está en la misma columna\n",
    "            if col_anterior == col:\n",
    "                return False\n",
    "            # 2) Verificar diagonal principal\n",
    "            #    (la diferencia de columnas es igual a la diferencia de filas)\n",
    "            if abs(col_anterior - col) == abs(fila_anterior - fila):\n",
    "                return False\n",
    "        return True\n",
    "\n",
    "    def backtrack(fila):\n",
    "        \"\"\"\n",
    "        Intenta colocar la reina de la fila 'fila' y, si lo logra,\n",
    "        avanza recursivamente a la siguiente fila.\n",
    "        \"\"\"\n",
    "        # Si fila == n, significa que hemos colocado reinas en todas las filas.\n",
    "        if fila == n:\n",
    "            # Copiamos la solución actual y la guardamos\n",
    "            soluciones.append(sol[:])\n",
    "            return\n",
    "        \n",
    "        # Probar todas las columnas para la reina de la fila actual\n",
    "        for col in range(n):\n",
    "            if es_valida(fila, col):\n",
    "                sol[fila] = col\n",
    "                backtrack(fila + 1)\n",
    "                # Al regresar de la recursión, se \"deshace\" la asignación.\n",
    "                # Sin embargo, como asignamos sol[fila] = col de nuevo\n",
    "                # en cada iteración, no es estrictamente necesario limpiar.\n",
    "                sol[fila] = -1\n",
    "    \n",
    "    # Iniciamos la búsqueda desde la primera fila (0)\n",
    "    backtrack(0)\n",
    "    return soluciones\n",
    "\n",
    "def print_solution_board(solution):\n",
    "    \"\"\"\n",
    "    Imprime en pantalla el tablero correspondiente a la 'solution' dada,\n",
    "    donde solution[i] es la columna de la reina en la fila i.\n",
    "    \"\"\"\n",
    "    n = len(solution)\n",
    "    for fila in range(n):\n",
    "        row_str = \"\"\n",
    "        for col in range(n):\n",
    "            if col == solution[fila]:\n",
    "                row_str += \"Q \"\n",
    "            else:\n",
    "                row_str += \". \"\n",
    "        print(row_str)\n",
    "    print()  # Línea en blanco al final del tablero\n",
    "\n"
   ]
  },
  {
   "cell_type": "code",
   "execution_count": 98,
   "metadata": {},
   "outputs": [
    {
     "name": "stdout",
     "output_type": "stream",
     "text": [
      "Se encontraron 2 soluciones para 4-Reinas.\n",
      "Solución 1: [1, 3, 0, 2]\n",
      "Solución 2: [2, 0, 3, 1]\n",
      "\n",
      "Soluciones para 4-Reinas: 2\n",
      "\n",
      "Solución 1: [1, 3, 0, 2]\n",
      ". Q . . \n",
      ". . . Q \n",
      "Q . . . \n",
      ". . Q . \n",
      "\n",
      "Solución 2: [2, 0, 3, 1]\n",
      ". . Q . \n",
      "Q . . . \n",
      ". . . Q \n",
      ". Q . . \n",
      "\n"
     ]
    }
   ],
   "source": [
    "# Ejemplo de uso #1\n",
    "if __name__ == \"__main__\":\n",
    "    n = 4\n",
    "    resultado = solve_n_queens(n)\n",
    "    print(f\"Se encontraron {len(resultado)} soluciones para {n}-Reinas.\")\n",
    "    for idx, sol in enumerate(resultado, start=1):\n",
    "        print(f\"Solución {idx}: {sol}\")\n",
    "    print()\n",
    "\n",
    "    # Impresión\n",
    "    todas_las_soluciones = solve_n_queens(n)\n",
    "    print(f\"Soluciones para {n}-Reinas: {len(todas_las_soluciones)}\\n\")\n",
    "    \n",
    "    for i, sol in enumerate(todas_las_soluciones, start=1):\n",
    "        print(f\"Solución {i}: {sol}\")\n",
    "        print_solution_board(sol)\n"
   ]
  },
  {
   "cell_type": "code",
   "execution_count": 100,
   "metadata": {},
   "outputs": [
    {
     "name": "stdout",
     "output_type": "stream",
     "text": [
      "Se encontraron 4 soluciones para 6-Reinas.\n",
      "Solución 1: [1, 3, 5, 0, 2, 4]\n",
      "Solución 2: [2, 5, 1, 4, 0, 3]\n",
      "Solución 3: [3, 0, 4, 1, 5, 2]\n",
      "Solución 4: [4, 2, 0, 5, 3, 1]\n",
      "\n",
      "Soluciones para 6-Reinas: 4\n",
      "\n",
      "Solución 1: [1, 3, 5, 0, 2, 4]\n",
      ". Q . . . . \n",
      ". . . Q . . \n",
      ". . . . . Q \n",
      "Q . . . . . \n",
      ". . Q . . . \n",
      ". . . . Q . \n",
      "\n",
      "Solución 2: [2, 5, 1, 4, 0, 3]\n",
      ". . Q . . . \n",
      ". . . . . Q \n",
      ". Q . . . . \n",
      ". . . . Q . \n",
      "Q . . . . . \n",
      ". . . Q . . \n",
      "\n",
      "Solución 3: [3, 0, 4, 1, 5, 2]\n",
      ". . . Q . . \n",
      "Q . . . . . \n",
      ". . . . Q . \n",
      ". Q . . . . \n",
      ". . . . . Q \n",
      ". . Q . . . \n",
      "\n",
      "Solución 4: [4, 2, 0, 5, 3, 1]\n",
      ". . . . Q . \n",
      ". . Q . . . \n",
      "Q . . . . . \n",
      ". . . . . Q \n",
      ". . . Q . . \n",
      ". Q . . . . \n",
      "\n"
     ]
    }
   ],
   "source": [
    "# Ejemplo de uso #2\n",
    "if __name__ == \"__main__\":\n",
    "    n = 6\n",
    "    resultado = solve_n_queens(n)\n",
    "    print(f\"Se encontraron {len(resultado)} soluciones para {n}-Reinas.\")\n",
    "    for idx, sol in enumerate(resultado, start=1):\n",
    "        print(f\"Solución {idx}: {sol}\")\n",
    "    print()\n",
    "\n",
    "    # Impresión\n",
    "    todas_las_soluciones = solve_n_queens(n)\n",
    "    print(f\"Soluciones para {n}-Reinas: {len(todas_las_soluciones)}\\n\")\n",
    "    \n",
    "    for i, sol in enumerate(todas_las_soluciones, start=1):\n",
    "        print(f\"Solución {i}: {sol}\")\n",
    "        print_solution_board(sol)"
   ]
  }
 ],
 "metadata": {
  "colab": {
   "provenance": [],
   "toc_visible": true
  },
  "kernelspec": {
   "display_name": "Python 3 (ipykernel)",
   "language": "python",
   "name": "python3"
  },
  "language_info": {
   "codemirror_mode": {
    "name": "ipython",
    "version": 3
   },
   "file_extension": ".py",
   "mimetype": "text/x-python",
   "name": "python",
   "nbconvert_exporter": "python",
   "pygments_lexer": "ipython3",
   "version": "3.12.7"
  },
  "panel-cell-order": [
   "2a35551f",
   "81c5b40e",
   "f257e71f",
   "cc0b2a09",
   "1f16a5de"
  ]
 },
 "nbformat": 4,
 "nbformat_minor": 4
}
